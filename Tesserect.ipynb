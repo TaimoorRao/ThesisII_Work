{
  "nbformat": 4,
  "nbformat_minor": 0,
  "metadata": {
    "colab": {
      "provenance": [],
      "authorship_tag": "ABX9TyP3VvfDUEQlODP5ISeNn8Kp",
      "include_colab_link": true
    },
    "kernelspec": {
      "name": "python3",
      "display_name": "Python 3"
    },
    "language_info": {
      "name": "python"
    }
  },
  "cells": [
    {
      "cell_type": "markdown",
      "metadata": {
        "id": "view-in-github",
        "colab_type": "text"
      },
      "source": [
        "<a href=\"https://colab.research.google.com/github/TaimoorRao/ThesisII_Work/blob/main/Tesserect.ipynb\" target=\"_parent\"><img src=\"https://colab.research.google.com/assets/colab-badge.svg\" alt=\"Open In Colab\"/></a>"
      ]
    },
    {
      "cell_type": "code",
      "execution_count": 1,
      "metadata": {
        "id": "Oq9P3WvmTtcT"
      },
      "outputs": [],
      "source": [
        "%matplotlib inline"
      ]
    },
    {
      "cell_type": "code",
      "source": [
        "!sudo apt install tesseract-ocr\n",
        "!pip install pytesseract"
      ],
      "metadata": {
        "colab": {
          "base_uri": "https://localhost:8080/"
        },
        "id": "g0mfRjLRT28D",
        "outputId": "cb0509f9-d13b-47ee-9b9e-fffcc17cf81d"
      },
      "execution_count": 2,
      "outputs": [
        {
          "output_type": "stream",
          "name": "stdout",
          "text": [
            "Reading package lists... Done\n",
            "Building dependency tree       \n",
            "Reading state information... Done\n",
            "tesseract-ocr is already the newest version (4.00~git2288-10f4998a-2).\n",
            "The following package was automatically installed and is no longer required:\n",
            "  libnvidia-common-460\n",
            "Use 'sudo apt autoremove' to remove it.\n",
            "0 upgraded, 0 newly installed, 0 to remove and 5 not upgraded.\n",
            "Looking in indexes: https://pypi.org/simple, https://us-python.pkg.dev/colab-wheels/public/simple/\n",
            "Requirement already satisfied: pytesseract in /usr/local/lib/python3.7/dist-packages (0.3.10)\n",
            "Requirement already satisfied: packaging>=21.3 in /usr/local/lib/python3.7/dist-packages (from pytesseract) (21.3)\n",
            "Requirement already satisfied: Pillow>=8.0.0 in /usr/local/lib/python3.7/dist-packages (from pytesseract) (9.3.0)\n",
            "Requirement already satisfied: pyparsing!=3.0.5,>=2.0.2 in /usr/local/lib/python3.7/dist-packages (from packaging>=21.3->pytesseract) (3.0.9)\n"
          ]
        }
      ]
    },
    {
      "cell_type": "code",
      "source": [
        "import pytesseract\n",
        "import shutil\n",
        "import os\n",
        "import random\n",
        "from PIL import Image"
      ],
      "metadata": {
        "id": "hMkkh_wCT5-W"
      },
      "execution_count": 3,
      "outputs": []
    },
    {
      "cell_type": "code",
      "source": [
        "import matplotlib.pyplot as plt\n",
        "import cv2"
      ],
      "metadata": {
        "id": "sSPwhdMQT9nj"
      },
      "execution_count": 4,
      "outputs": []
    },
    {
      "cell_type": "code",
      "source": [
        "im = cv2.imread(\"/content/Aetna.jpeg\", cv2.IMREAD_COLOR)"
      ],
      "metadata": {
        "id": "zBbQHGuxT_Je"
      },
      "execution_count": 5,
      "outputs": []
    },
    {
      "cell_type": "code",
      "source": [
        "im = cv2.bitwise_not(im)\n",
        "plt.imshow(im)\n",
        "plt.show()"
      ],
      "metadata": {
        "colab": {
          "base_uri": "https://localhost:8080/",
          "height": 269
        },
        "id": "Lkhyh6LaUAwO",
        "outputId": "dde222c2-b143-4b0e-cd75-a7c533b960a0"
      },
      "execution_count": 6,
      "outputs": [
        {
          "output_type": "display_data",
          "data": {
            "text/plain": [
              "<Figure size 432x288 with 1 Axes>"
            ],
            "image/png": "[encoded data removed]"
          },
          "metadata": {
            "needs_background": "light"
          }
        }
      ]
    },
    {
      "cell_type": "code",
      "source": [
        "image_path_in_colab=\"/content/Aetna.jpeg\"\n",
        "extract = pytesseract.image_to_string(Image.open(r'/content/Aetna.jpeg'))\n",
        "print(extract)"
      ],
      "metadata": {
        "colab": {
          "base_uri": "https://localhost:8080/"
        },
        "id": "kLsHj5K8UChj",
        "outputId": "f38b2c0f-dfcf-494f-ddba-943214044ab7"
      },
      "execution_count": 7,
      "outputs": [
        {
          "output_type": "stream",
          "name": "stdout",
          "text": [
            "<\n",
            "\n",
            "Create an Account\n",
            "\n",
            "To get you set up, we just need some basic info.\n",
            "\n",
            "First Name\n",
            "\n",
            " \n",
            "\n",
            ") Name\n",
            "\n",
            " \n",
            "\n",
            "Birth Month ~ Birth Day ~ Birth Year\n",
            "\n",
            "v\n",
            "\n",
            " \n",
            "\n",
            "Email\n",
            "\n",
            " \n",
            "\n",
            "ZIP Code\n",
            "\n",
            " \n",
            "\n",
            "Your Member Info\n",
            "\n",
            "Choose how to create your account. Most people use their\n",
            "Member ID.\n",
            "\n",
            "Need help finding your Member ID?\n",
            "\n",
            "Member ID Social Security Number\n",
            "\n",
            "Member ID\n",
            "\n",
            " \n",
            "\n",
            "Next\n",
            "\f\n"
          ]
        }
      ]
    },
    {
      "cell_type": "code",
      "source": [
        "extract=''.join(extract)\n",
        "\n",
        "extract=extract.split('\\n')\n",
        "\n",
        "extract"
      ],
      "metadata": {
        "id": "3Gima0vPUEDs",
        "colab": {
          "base_uri": "https://localhost:8080/"
        },
        "outputId": "655d923c-a38b-41d4-c49e-75b5553d9918"
      },
      "execution_count": 8,
      "outputs": [
        {
          "output_type": "execute_result",
          "data": {
            "text/plain": [
              "['<',\n",
              " '',\n",
              " 'Create an Account',\n",
              " '',\n",
              " 'To get you set up, we just need some basic info.',\n",
              " '',\n",
              " 'First Name',\n",
              " '',\n",
              " ' ',\n",
              " '',\n",
              " ') Name',\n",
              " '',\n",
              " ' ',\n",
              " '',\n",
              " 'Birth Month ~ Birth Day ~ Birth Year',\n",
              " '',\n",
              " 'v',\n",
              " '',\n",
              " ' ',\n",
              " '',\n",
              " 'Email',\n",
              " '',\n",
              " ' ',\n",
              " '',\n",
              " 'ZIP Code',\n",
              " '',\n",
              " ' ',\n",
              " '',\n",
              " 'Your Member Info',\n",
              " '',\n",
              " 'Choose how to create your account. Most people use their',\n",
              " 'Member ID.',\n",
              " '',\n",
              " 'Need help finding your Member ID?',\n",
              " '',\n",
              " 'Member ID Social Security Number',\n",
              " '',\n",
              " 'Member ID',\n",
              " '',\n",
              " ' ',\n",
              " '',\n",
              " 'Next',\n",
              " '\\x0c']"
            ]
          },
          "metadata": {},
          "execution_count": 8
        }
      ]
    },
    {
      "cell_type": "code",
      "source": [
        "l=list()\n",
        "for i in extract:\n",
        "  if i!='' and i!=' ':\n",
        "    l.append(i)\n",
        "l"
      ],
      "metadata": {
        "id": "2GZn2uzkUKIx",
        "colab": {
          "base_uri": "https://localhost:8080/"
        },
        "outputId": "c2664af1-1aeb-443f-fcf9-461b7923312e"
      },
      "execution_count": 9,
      "outputs": [
        {
          "output_type": "execute_result",
          "data": {
            "text/plain": [
              "['<',\n",
              " 'Create an Account',\n",
              " 'To get you set up, we just need some basic info.',\n",
              " 'First Name',\n",
              " ') Name',\n",
              " 'Birth Month ~ Birth Day ~ Birth Year',\n",
              " 'v',\n",
              " 'Email',\n",
              " 'ZIP Code',\n",
              " 'Your Member Info',\n",
              " 'Choose how to create your account. Most people use their',\n",
              " 'Member ID.',\n",
              " 'Need help finding your Member ID?',\n",
              " 'Member ID Social Security Number',\n",
              " 'Member ID',\n",
              " 'Next',\n",
              " '\\x0c']"
            ]
          },
          "metadata": {},
          "execution_count": 9
        }
      ]
    },
    {
      "cell_type": "code",
      "source": [],
      "metadata": {
        "id": "uyZS02vBcVFS"
      },
      "execution_count": null,
      "outputs": []
    }
  ]
}